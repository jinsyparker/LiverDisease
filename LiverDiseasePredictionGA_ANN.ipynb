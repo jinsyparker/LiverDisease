{
  "nbformat": 4,
  "nbformat_minor": 0,
  "metadata": {
    "colab": {
      "provenance": []
    },
    "kernelspec": {
      "name": "python3",
      "display_name": "Python 3"
    },
    "language_info": {
      "name": "python"
    }
  },
  "cells": [
    {
      "cell_type": "code",
      "execution_count": null,
      "metadata": {
        "id": "HWLEz4JEwh5X"
      },
      "outputs": [],
      "source": [
        "import pandas as pd\n",
        "import numpy as np\n",
        "import seaborn as sns\n",
        "import matplotlib.pyplot as plt\n",
        "from sklearn.metrics import mean_squared_error, r2_score\n",
        "from sklearn.preprocessing import StandardScaler\n",
        "from sklearn.linear_model import LogisticRegression\n",
        "from sklearn.ensemble import RandomForestClassifier\n",
        "from sklearn.neighbors import KNeighborsClassifier\n",
        "from sklearn.model_selection import KFold, cross_val_score\n",
        "from sklearn.model_selection import train_test_split, GridSearchCV\n",
        "from sklearn.model_selection import KFold\n",
        "from sklearn.metrics import make_scorer, accuracy_score,roc_auc_score,roc_curve, auc,classification_report\n",
        "from sklearn.preprocessing import MinMaxScaler\n",
        "from keras.models import Sequential\n",
        "from keras.layers import Dense\n",
        "from keras.regularizers import l1\n",
        "from tensorflow import keras\n",
        "from sklearn.ensemble import RandomForestClassifier\n",
        "import tensorflow as tf"
      ]
    },
    {
      "cell_type": "code",
      "source": [],
      "metadata": {
        "colab": {
          "base_uri": "https://localhost:8080/"
        },
        "id": "AyfUrSAbmYXu",
        "outputId": "254eb2a1-e357-48df-acd9-96215a53f7b2"
      },
      "execution_count": null,
      "outputs": [
        {
          "output_type": "stream",
          "name": "stdout",
          "text": [
            "Mounted at /content/drive\n"
          ]
        }
      ]
    },
    {
      "cell_type": "code",
      "source": [
        "data = pd.read_csv('/content/data/indian_liver_patient.csv')"
      ],
      "metadata": {
        "id": "60fpK5qiw30o"
      },
      "execution_count": null,
      "outputs": []
    },
    {
      "cell_type": "code",
      "source": [
        "col_names = ['Age','Gender','TB_total_bilirubin', 'DB_Direct_Bilirubin','Alkphos_Alkaline_Phosphotase', 'Sgpt_Alamine_Aminotransferase',\n",
        "       'Sgot_Aspartate_Aminotransferase', 'TP_Total_Protiens', 'ALB_Albumin', 'A/G_Ratio','Selector Field']\n",
        "len(col_names)"
      ],
      "metadata": {
        "id": "6z0c109Zw72Q",
        "colab": {
          "base_uri": "https://localhost:8080/"
        },
        "outputId": "0cbec5b4-73a2-4114-c3b1-1b5d6e5b0bc7"
      },
      "execution_count": null,
      "outputs": [
        {
          "output_type": "execute_result",
          "data": {
            "text/plain": [
              "11"
            ]
          },
          "metadata": {},
          "execution_count": 3
        }
      ]
    },
    {
      "cell_type": "code",
      "source": [
        "data.columns = col_names"
      ],
      "metadata": {
        "id": "gzFOaKmbxBqe"
      },
      "execution_count": null,
      "outputs": []
    },
    {
      "cell_type": "code",
      "source": [
        "data.isnull().sum()"
      ],
      "metadata": {
        "id": "kmIxGRBfxFk9",
        "colab": {
          "base_uri": "https://localhost:8080/"
        },
        "outputId": "284316dd-29f2-475a-db93-3725cef71fb3"
      },
      "execution_count": null,
      "outputs": [
        {
          "output_type": "execute_result",
          "data": {
            "text/plain": [
              "Age                                0\n",
              "Gender                             0\n",
              "TB_total_bilirubin                 0\n",
              "DB_Direct_Bilirubin                0\n",
              "Alkphos_Alkaline_Phosphotase       0\n",
              "Sgpt_Alamine_Aminotransferase      0\n",
              "Sgot_Aspartate_Aminotransferase    0\n",
              "TP_Total_Protiens                  0\n",
              "ALB_Albumin                        0\n",
              "A/G_Ratio                          4\n",
              "Selector Field                     0\n",
              "dtype: int64"
            ]
          },
          "metadata": {},
          "execution_count": 5
        }
      ]
    },
    {
      "cell_type": "code",
      "source": [
        "data['A/G_Ratio'].fillna(round(data['A/G_Ratio'].mean(),2),inplace=True)"
      ],
      "metadata": {
        "id": "Qf193Pq3xHHX"
      },
      "execution_count": null,
      "outputs": []
    },
    {
      "cell_type": "code",
      "source": [
        "data.isnull().sum()"
      ],
      "metadata": {
        "id": "sS5aENhuxLLv",
        "colab": {
          "base_uri": "https://localhost:8080/"
        },
        "outputId": "14b32a77-c7ff-45b3-9875-0426e1e83100"
      },
      "execution_count": null,
      "outputs": [
        {
          "output_type": "execute_result",
          "data": {
            "text/plain": [
              "Age                                0\n",
              "Gender                             0\n",
              "TB_total_bilirubin                 0\n",
              "DB_Direct_Bilirubin                0\n",
              "Alkphos_Alkaline_Phosphotase       0\n",
              "Sgpt_Alamine_Aminotransferase      0\n",
              "Sgot_Aspartate_Aminotransferase    0\n",
              "TP_Total_Protiens                  0\n",
              "ALB_Albumin                        0\n",
              "A/G_Ratio                          0\n",
              "Selector Field                     0\n",
              "dtype: int64"
            ]
          },
          "metadata": {},
          "execution_count": 7
        }
      ]
    },
    {
      "cell_type": "code",
      "source": [
        "data['Selector Field'] = data['Selector Field'].map(lambda x:0 if x==2 else 1)  # 0-no disease, 1-disease\n",
        "data['Gender'] = data['Gender'].map(lambda x:0 if x==\"Male\" else 1)\n",
        "value_table = pd.crosstab(data['Gender'],data['Selector Field'])\n",
        "value_table.columns = [\"No Disease\",\"Disease Present\"]\n",
        "value_table.index = [\"Male\",\"Female\"]\n",
        "print(value_table)"
      ],
      "metadata": {
        "id": "31WiYf5-xLVd",
        "colab": {
          "base_uri": "https://localhost:8080/"
        },
        "outputId": "1eb2a6b1-1362-41fc-aa68-760c5c4408ac"
      },
      "execution_count": null,
      "outputs": [
        {
          "output_type": "stream",
          "name": "stdout",
          "text": [
            "        No Disease  Disease Present\n",
            "Male           117              324\n",
            "Female          50               92\n"
          ]
        }
      ]
    },
    {
      "cell_type": "code",
      "source": [
        "X = data.drop('Selector Field',axis=1)\n",
        "y = data['Selector Field']"
      ],
      "metadata": {
        "id": "lSfuCFjHxUEU"
      },
      "execution_count": null,
      "outputs": []
    },
    {
      "cell_type": "code",
      "source": [
        "from sklearn.preprocessing import StandardScaler\n",
        "\n",
        "scaler = StandardScaler()\n",
        "X_Scaled = scaler.fit_transform(X)"
      ],
      "metadata": {
        "id": "QxkltLblxc6m"
      },
      "execution_count": null,
      "outputs": []
    },
    {
      "cell_type": "code",
      "source": [
        "Xtrain, Xtest, y_train, y_test = train_test_split(X,y,test_size=0.3,random_state=1)"
      ],
      "metadata": {
        "id": "RACcaD7qxgLf"
      },
      "execution_count": null,
      "outputs": []
    },
    {
      "cell_type": "code",
      "source": [
        "from sklearn.preprocessing import StandardScaler\n",
        "\n",
        "scaler = StandardScaler()\n",
        "X_train = scaler.fit_transform(Xtrain)\n",
        "X_test = scaler.transform(Xtest)\n",
        "\n",
        "print(len(X_train))\n",
        "print(len(y_train))"
      ],
      "metadata": {
        "colab": {
          "base_uri": "https://localhost:8080/"
        },
        "id": "dWF4_Qt9xjky",
        "outputId": "e58fa40e-7969-4f4c-bc4b-6b90705153e0"
      },
      "execution_count": null,
      "outputs": [
        {
          "output_type": "stream",
          "name": "stdout",
          "text": [
            "408\n",
            "408\n"
          ]
        }
      ]
    },
    {
      "cell_type": "code",
      "source": [
        "!pip install deap"
      ],
      "metadata": {
        "colab": {
          "base_uri": "https://localhost:8080/"
        },
        "id": "IP7rDo7ahYvq",
        "outputId": "5fef9a33-3e61-4960-df6c-ce4b92bab9dc"
      },
      "execution_count": null,
      "outputs": [
        {
          "output_type": "stream",
          "name": "stdout",
          "text": [
            "Collecting deap\n",
            "  Downloading deap-1.4.1-cp310-cp310-manylinux_2_5_x86_64.manylinux1_x86_64.manylinux_2_17_x86_64.manylinux2014_x86_64.whl (135 kB)\n",
            "\u001b[2K     \u001b[90m━━━━━━━━━━━━━━━━━━━━━━━━━━━━━━━━━━━━━━━━\u001b[0m \u001b[32m135.4/135.4 kB\u001b[0m \u001b[31m1.1 MB/s\u001b[0m eta \u001b[36m0:00:00\u001b[0m\n",
            "\u001b[?25hRequirement already satisfied: numpy in /usr/local/lib/python3.10/dist-packages (from deap) (1.25.2)\n",
            "Installing collected packages: deap\n",
            "Successfully installed deap-1.4.1\n"
          ]
        }
      ]
    },
    {
      "cell_type": "markdown",
      "source": [
        "GENETIC ALGORITHM"
      ],
      "metadata": {
        "id": "ryGQYdbSxku3"
      }
    },
    {
      "cell_type": "code",
      "source": [
        "import random\n",
        "import numpy as np\n",
        "from deap import base, creator, tools, algorithms\n",
        "from sklearn.model_selection import train_test_split\n",
        "from sklearn.ensemble import RandomForestClassifier\n",
        "from sklearn.metrics import accuracy_score\n",
        "\n",
        "# Define the number of features (genes) to select\n",
        "num_features_to_select = X.shape[1]  # You can adjust this number\n",
        "\n",
        "# Create a fitness function for classification accuracy\n",
        "creator.create(\"FitnessMax\", base.Fitness, weights=(1.0,))\n",
        "creator.create(\"Individual\", list, fitness=creator.FitnessMax)\n",
        "\n",
        "# Initialize the toolbox\n",
        "toolbox = base.Toolbox()\n",
        "toolbox.register(\"attr_bool\", random.choice, [True, False])\n",
        "toolbox.register(\"individual\", tools.initRepeat, creator.Individual, toolbox.attr_bool, n=num_features_to_select)\n",
        "toolbox.register(\"population\", tools.initRepeat, list, toolbox.individual)\n",
        "\n",
        "# Define the evaluation function (fitness function)\n",
        "def evaluate(individual):\n",
        "    selected_features = [feature for feature, select in zip(X_train.T, individual) if select]\n",
        "    if not any(individual) or len(selected_features) == 0:\n",
        "        return 0.0,  # If no features are selected, return a fitness of 0\n",
        "    clf = RandomForestClassifier(random_state=0)\n",
        "    clf.fit(X_train[:, individual], y_train)\n",
        "    y_pred = clf.predict(X_test[:, individual])\n",
        "    accuracy = accuracy_score(y_test, y_pred)\n",
        "    return accuracy,\n",
        "\n",
        "toolbox.register(\"evaluate\", evaluate)\n",
        "toolbox.register(\"mate\", tools.cxTwoPoint)\n",
        "toolbox.register(\"mutate\", tools.mutFlipBit, indpb=0.05)\n",
        "toolbox.register(\"select\", tools.selTournament, tournsize=3)\n",
        "\n",
        "# Create the initial population\n",
        "population = toolbox.population(n=50)  # You can adjust the population size\n",
        "\n",
        "# Run the genetic algorithm\n",
        "generations = 10  # You can adjust the number of generations\n",
        "for gen in range(generations):\n",
        "    offspring = algorithms.varAnd(population, toolbox, cxpb=0.7, mutpb=0.3)\n",
        "    fits = toolbox.map(toolbox.evaluate, offspring)\n",
        "    for fit, ind in zip(fits, offspring):\n",
        "        ind.fitness.values = fit\n",
        "    population = toolbox.select(offspring, k=len(population))\n",
        "\n",
        "# Find and print the best individual (selected features)\n",
        "best_individual = tools.selBest(population, k=1)[0]\n",
        "selected_features_indices = [i for i, select in enumerate(best_individual) if select]\n",
        "print(\"Best Individual (Feature Selection):\", selected_features_indices)"
      ],
      "metadata": {
        "id": "g2Aq6QVOxm5a",
        "colab": {
          "base_uri": "https://localhost:8080/"
        },
        "outputId": "4b8422cd-81e5-4440-d232-90fb1cfc2e94"
      },
      "execution_count": null,
      "outputs": [
        {
          "output_type": "stream",
          "name": "stdout",
          "text": [
            "Best Individual (Feature Selection): [2, 3, 4, 5, 6]\n"
          ]
        }
      ]
    },
    {
      "cell_type": "markdown",
      "source": [
        "ARTIFICIAL NEURAL NETWORK"
      ],
      "metadata": {
        "id": "TEwMfqAxnqLu"
      }
    },
    {
      "cell_type": "code",
      "source": [
        "from tensorflow.keras.models import Sequential\n",
        "from tensorflow.keras.layers import Dense, Dropout\n",
        "\n",
        "classifier = Sequential()\n",
        "classifier.add(Dense(units=128, activation='relu', input_dim=len(selected_features_indices)))\n",
        "classifier.add(Dropout(rate=0.6))\n",
        "classifier.add(Dense(units=128, activation='relu'))\n",
        "classifier.add(Dropout(rate=0.6))\n",
        "classifier.add(Dense(units=256, activation='relu'))\n",
        "classifier.add(Dropout(rate=0.6))\n",
        "classifier.add(Dense(units=128, activation='relu'))\n",
        "classifier.add(Dropout(rate=0.4))\n",
        "classifier.add(Dense(units=1, activation='sigmoid'))\n",
        "classifier.compile(optimizer='adam', loss='binary_crossentropy', metrics=['accuracy'])\n",
        "classifier.summary()"
      ],
      "metadata": {
        "colab": {
          "base_uri": "https://localhost:8080/"
        },
        "id": "Iqbw3-7mntzG",
        "outputId": "b110f354-f6ba-4f05-8069-b83536d6c488"
      },
      "execution_count": null,
      "outputs": [
        {
          "output_type": "stream",
          "name": "stdout",
          "text": [
            "Model: \"sequential\"\n",
            "_________________________________________________________________\n",
            " Layer (type)                Output Shape              Param #   \n",
            "=================================================================\n",
            " dense (Dense)               (None, 128)               768       \n",
            "                                                                 \n",
            " dropout (Dropout)           (None, 128)               0         \n",
            "                                                                 \n",
            " dense_1 (Dense)             (None, 128)               16512     \n",
            "                                                                 \n",
            " dropout_1 (Dropout)         (None, 128)               0         \n",
            "                                                                 \n",
            " dense_2 (Dense)             (None, 256)               33024     \n",
            "                                                                 \n",
            " dropout_2 (Dropout)         (None, 256)               0         \n",
            "                                                                 \n",
            " dense_3 (Dense)             (None, 128)               32896     \n",
            "                                                                 \n",
            " dropout_3 (Dropout)         (None, 128)               0         \n",
            "                                                                 \n",
            " dense_4 (Dense)             (None, 1)                 129       \n",
            "                                                                 \n",
            "=================================================================\n",
            "Total params: 83329 (325.50 KB)\n",
            "Trainable params: 83329 (325.50 KB)\n",
            "Non-trainable params: 0 (0.00 Byte)\n",
            "_________________________________________________________________\n"
          ]
        }
      ]
    },
    {
      "cell_type": "code",
      "source": [
        "X_new = X_train[:, selected_features_indices]\n",
        "selected_columns = data.columns[selected_features_indices]\n",
        "X_new = pd.DataFrame(X_new, columns=selected_columns)\n",
        "print(X_new.head())"
      ],
      "metadata": {
        "colab": {
          "base_uri": "https://localhost:8080/"
        },
        "id": "rITqQ0nxoy-K",
        "outputId": "19db1270-f12a-4ecc-8917-30a75a362fcc"
      },
      "execution_count": null,
      "outputs": [
        {
          "output_type": "stream",
          "name": "stdout",
          "text": [
            "   TB_total_bilirubin  DB_Direct_Bilirubin  Alkphos_Alkaline_Phosphotase  \\\n",
            "0           -0.379496            -0.448134                     -0.382407   \n",
            "1           -0.395354            -0.448134                     -0.430120   \n",
            "2           -0.347781            -0.410536                     -0.492147   \n",
            "3            3.172624             4.214006                      1.411608   \n",
            "4           -0.379496            -0.448134                     -0.659143   \n",
            "\n",
            "   Sgpt_Alamine_Aminotransferase  Sgot_Aspartate_Aminotransferase  \n",
            "0                      -0.336702                        -0.454193  \n",
            "1                      -0.421733                        -0.515861  \n",
            "2                      -0.287101                        -0.380192  \n",
            "3                      -0.194984                        -0.287691  \n",
            "4                      -0.329616                        -0.454193  \n"
          ]
        }
      ]
    },
    {
      "cell_type": "code",
      "source": [
        "X_newtest = X_test[:, selected_features_indices]\n",
        "selected_columns = data.columns[selected_features_indices]\n",
        "X_newtest = pd.DataFrame(X_newtest, columns=selected_columns)\n",
        "print(X_newtest.head())"
      ],
      "metadata": {
        "colab": {
          "base_uri": "https://localhost:8080/"
        },
        "id": "2ChqZvrZsUzt",
        "outputId": "510cdfff-285f-444c-a358-6db3e50a1e31"
      },
      "execution_count": null,
      "outputs": [
        {
          "output_type": "stream",
          "name": "stdout",
          "text": [
            "   TB_total_bilirubin  DB_Direct_Bilirubin  Alkphos_Alkaline_Phosphotase  \\\n",
            "0           -0.236777            -0.260144                      2.771433   \n",
            "1           -0.379496            -0.448134                      0.113810   \n",
            "2           -0.284350            -0.260144                      0.915391   \n",
            "3            0.001088             0.078237                     -0.100899   \n",
            "4            1.793006             1.882936                      0.381004   \n",
            "\n",
            "   Sgpt_Alamine_Aminotransferase  Sgot_Aspartate_Aminotransferase  \n",
            "0                       0.130968                        -0.281524  \n",
            "1                      -0.166640                        -0.164356  \n",
            "2                      -0.060352                        -0.034854  \n",
            "3                      -0.265843                         0.137815  \n",
            "4                      -0.145383                        -0.115022  \n"
          ]
        }
      ]
    },
    {
      "cell_type": "code",
      "source": [
        "history = classifier.fit(X_new, y_train, epochs=50, shuffle=False, validation_split=0.1)"
      ],
      "metadata": {
        "colab": {
          "base_uri": "https://localhost:8080/"
        },
        "id": "jbhPvFodozXB",
        "outputId": "d9e09f44-d15d-48d8-d61f-394fac72c9ef"
      },
      "execution_count": null,
      "outputs": [
        {
          "output_type": "stream",
          "name": "stdout",
          "text": [
            "Epoch 1/50\n",
            "12/12 [==============================] - 2s 33ms/step - loss: 0.6030 - accuracy: 0.6730 - val_loss: 0.6061 - val_accuracy: 0.6341\n",
            "Epoch 2/50\n",
            "12/12 [==============================] - 0s 10ms/step - loss: 0.5719 - accuracy: 0.7221 - val_loss: 0.5857 - val_accuracy: 0.6341\n",
            "Epoch 3/50\n",
            "12/12 [==============================] - 0s 10ms/step - loss: 0.5612 - accuracy: 0.7221 - val_loss: 0.5722 - val_accuracy: 0.6341\n",
            "Epoch 4/50\n",
            "12/12 [==============================] - 0s 10ms/step - loss: 0.5489 - accuracy: 0.7221 - val_loss: 0.5636 - val_accuracy: 0.6341\n",
            "Epoch 5/50\n",
            "12/12 [==============================] - 0s 9ms/step - loss: 0.5326 - accuracy: 0.7221 - val_loss: 0.5567 - val_accuracy: 0.6341\n",
            "Epoch 6/50\n",
            "12/12 [==============================] - 0s 10ms/step - loss: 0.5401 - accuracy: 0.7221 - val_loss: 0.5536 - val_accuracy: 0.6341\n",
            "Epoch 7/50\n",
            "12/12 [==============================] - 0s 9ms/step - loss: 0.5733 - accuracy: 0.7221 - val_loss: 0.5519 - val_accuracy: 0.6341\n",
            "Epoch 8/50\n",
            "12/12 [==============================] - 0s 9ms/step - loss: 0.5336 - accuracy: 0.7221 - val_loss: 0.5511 - val_accuracy: 0.6341\n",
            "Epoch 9/50\n",
            "12/12 [==============================] - 0s 11ms/step - loss: 0.5295 - accuracy: 0.7221 - val_loss: 0.5494 - val_accuracy: 0.6341\n",
            "Epoch 10/50\n",
            "12/12 [==============================] - 0s 11ms/step - loss: 0.5300 - accuracy: 0.7221 - val_loss: 0.5469 - val_accuracy: 0.6341\n",
            "Epoch 11/50\n",
            "12/12 [==============================] - 0s 10ms/step - loss: 0.5528 - accuracy: 0.7221 - val_loss: 0.5455 - val_accuracy: 0.6341\n",
            "Epoch 12/50\n",
            "12/12 [==============================] - 0s 11ms/step - loss: 0.5455 - accuracy: 0.7221 - val_loss: 0.5452 - val_accuracy: 0.6341\n",
            "Epoch 13/50\n",
            "12/12 [==============================] - 0s 13ms/step - loss: 0.5442 - accuracy: 0.7221 - val_loss: 0.5445 - val_accuracy: 0.6341\n",
            "Epoch 14/50\n",
            "12/12 [==============================] - 0s 13ms/step - loss: 0.5316 - accuracy: 0.7221 - val_loss: 0.5448 - val_accuracy: 0.6341\n",
            "Epoch 15/50\n",
            "12/12 [==============================] - 0s 12ms/step - loss: 0.5480 - accuracy: 0.7193 - val_loss: 0.5435 - val_accuracy: 0.6341\n",
            "Epoch 16/50\n",
            "12/12 [==============================] - 0s 14ms/step - loss: 0.5280 - accuracy: 0.7221 - val_loss: 0.5429 - val_accuracy: 0.6341\n",
            "Epoch 17/50\n",
            "12/12 [==============================] - 0s 13ms/step - loss: 0.5521 - accuracy: 0.7221 - val_loss: 0.5434 - val_accuracy: 0.6341\n",
            "Epoch 18/50\n",
            "12/12 [==============================] - 0s 14ms/step - loss: 0.5250 - accuracy: 0.7221 - val_loss: 0.5440 - val_accuracy: 0.6341\n",
            "Epoch 19/50\n",
            "12/12 [==============================] - 0s 13ms/step - loss: 0.5248 - accuracy: 0.7221 - val_loss: 0.5448 - val_accuracy: 0.6341\n",
            "Epoch 20/50\n",
            "12/12 [==============================] - 0s 14ms/step - loss: 0.5559 - accuracy: 0.7221 - val_loss: 0.5435 - val_accuracy: 0.6341\n",
            "Epoch 21/50\n",
            "12/12 [==============================] - 0s 12ms/step - loss: 0.5291 - accuracy: 0.7221 - val_loss: 0.5434 - val_accuracy: 0.6341\n",
            "Epoch 22/50\n",
            "12/12 [==============================] - 0s 12ms/step - loss: 0.5369 - accuracy: 0.7221 - val_loss: 0.5422 - val_accuracy: 0.6341\n",
            "Epoch 23/50\n",
            "12/12 [==============================] - 0s 14ms/step - loss: 0.5240 - accuracy: 0.7221 - val_loss: 0.5416 - val_accuracy: 0.6341\n",
            "Epoch 24/50\n",
            "12/12 [==============================] - 0s 13ms/step - loss: 0.5226 - accuracy: 0.7221 - val_loss: 0.5424 - val_accuracy: 0.6341\n",
            "Epoch 25/50\n",
            "12/12 [==============================] - 0s 12ms/step - loss: 0.5308 - accuracy: 0.7221 - val_loss: 0.5420 - val_accuracy: 0.6341\n",
            "Epoch 26/50\n",
            "12/12 [==============================] - 0s 15ms/step - loss: 0.5282 - accuracy: 0.7221 - val_loss: 0.5422 - val_accuracy: 0.6341\n",
            "Epoch 27/50\n",
            "12/12 [==============================] - 0s 13ms/step - loss: 0.5289 - accuracy: 0.7221 - val_loss: 0.5441 - val_accuracy: 0.6341\n",
            "Epoch 28/50\n",
            "12/12 [==============================] - 0s 14ms/step - loss: 0.5110 - accuracy: 0.7221 - val_loss: 0.5460 - val_accuracy: 0.6341\n",
            "Epoch 29/50\n",
            "12/12 [==============================] - 0s 14ms/step - loss: 0.5396 - accuracy: 0.7221 - val_loss: 0.5423 - val_accuracy: 0.6341\n",
            "Epoch 30/50\n",
            "12/12 [==============================] - 0s 10ms/step - loss: 0.5203 - accuracy: 0.7221 - val_loss: 0.5410 - val_accuracy: 0.6341\n",
            "Epoch 31/50\n",
            "12/12 [==============================] - 0s 9ms/step - loss: 0.5503 - accuracy: 0.7221 - val_loss: 0.5416 - val_accuracy: 0.6341\n",
            "Epoch 32/50\n",
            "12/12 [==============================] - 0s 8ms/step - loss: 0.5186 - accuracy: 0.7221 - val_loss: 0.5445 - val_accuracy: 0.6341\n",
            "Epoch 33/50\n",
            "12/12 [==============================] - 0s 10ms/step - loss: 0.5195 - accuracy: 0.7221 - val_loss: 0.5473 - val_accuracy: 0.6341\n",
            "Epoch 34/50\n",
            "12/12 [==============================] - 0s 9ms/step - loss: 0.5155 - accuracy: 0.7221 - val_loss: 0.5482 - val_accuracy: 0.6341\n",
            "Epoch 35/50\n",
            "12/12 [==============================] - 0s 9ms/step - loss: 0.5332 - accuracy: 0.7221 - val_loss: 0.5473 - val_accuracy: 0.6341\n",
            "Epoch 36/50\n",
            "12/12 [==============================] - 0s 9ms/step - loss: 0.5203 - accuracy: 0.7221 - val_loss: 0.5496 - val_accuracy: 0.6341\n",
            "Epoch 37/50\n",
            "12/12 [==============================] - 0s 9ms/step - loss: 0.5305 - accuracy: 0.7193 - val_loss: 0.5523 - val_accuracy: 0.6341\n",
            "Epoch 38/50\n",
            "12/12 [==============================] - 0s 8ms/step - loss: 0.5254 - accuracy: 0.7221 - val_loss: 0.5527 - val_accuracy: 0.6341\n",
            "Epoch 39/50\n",
            "12/12 [==============================] - 0s 9ms/step - loss: 0.5588 - accuracy: 0.7248 - val_loss: 0.5526 - val_accuracy: 0.6341\n",
            "Epoch 40/50\n",
            "12/12 [==============================] - 0s 10ms/step - loss: 0.5173 - accuracy: 0.7221 - val_loss: 0.5548 - val_accuracy: 0.6341\n",
            "Epoch 41/50\n",
            "12/12 [==============================] - 0s 10ms/step - loss: 0.5311 - accuracy: 0.7193 - val_loss: 0.5537 - val_accuracy: 0.6341\n",
            "Epoch 42/50\n",
            "12/12 [==============================] - 0s 10ms/step - loss: 0.5180 - accuracy: 0.7221 - val_loss: 0.5526 - val_accuracy: 0.6341\n",
            "Epoch 43/50\n",
            "12/12 [==============================] - 0s 10ms/step - loss: 0.5143 - accuracy: 0.7221 - val_loss: 0.5516 - val_accuracy: 0.6341\n",
            "Epoch 44/50\n",
            "12/12 [==============================] - 0s 9ms/step - loss: 0.5236 - accuracy: 0.7221 - val_loss: 0.5542 - val_accuracy: 0.6341\n",
            "Epoch 45/50\n",
            "12/12 [==============================] - 0s 10ms/step - loss: 0.5231 - accuracy: 0.7248 - val_loss: 0.5541 - val_accuracy: 0.6341\n",
            "Epoch 46/50\n",
            "12/12 [==============================] - 0s 11ms/step - loss: 0.5289 - accuracy: 0.7248 - val_loss: 0.5533 - val_accuracy: 0.6341\n",
            "Epoch 47/50\n",
            "12/12 [==============================] - 0s 10ms/step - loss: 0.5244 - accuracy: 0.7166 - val_loss: 0.5522 - val_accuracy: 0.6341\n",
            "Epoch 48/50\n",
            "12/12 [==============================] - 0s 9ms/step - loss: 0.5340 - accuracy: 0.7221 - val_loss: 0.5524 - val_accuracy: 0.6341\n",
            "Epoch 49/50\n",
            "12/12 [==============================] - 0s 8ms/step - loss: 0.5389 - accuracy: 0.7248 - val_loss: 0.5528 - val_accuracy: 0.6341\n",
            "Epoch 50/50\n",
            "12/12 [==============================] - 0s 10ms/step - loss: 0.5243 - accuracy: 0.7248 - val_loss: 0.5538 - val_accuracy: 0.6341\n"
          ]
        }
      ]
    },
    {
      "cell_type": "code",
      "source": [
        "from sklearn.metrics import confusion_matrix, accuracy_score\n",
        "y_pred = classifier.predict(X_newtest)\n",
        "y_pred = y_pred > 0.5\n",
        "\n",
        "print(\"Confusion matrix:\")\n",
        "print(confusion_matrix(y_test, y_pred))\n",
        "print(\"Accuracy: {:.2f}%\".format(accuracy_score(y_test, y_pred)*100))"
      ],
      "metadata": {
        "colab": {
          "base_uri": "https://localhost:8080/"
        },
        "id": "RefWmQ2Zr8eC",
        "outputId": "cc2d0a3d-2d1b-4ff2-9538-925f4d9b419b"
      },
      "execution_count": null,
      "outputs": [
        {
          "output_type": "stream",
          "name": "stdout",
          "text": [
            "6/6 [==============================] - 0s 3ms/step\n",
            "Confusion matrix:\n",
            "[[  0  50]\n",
            " [  0 125]]\n",
            "Accuracy: 71.43%\n"
          ]
        }
      ]
    }
  ]
}
